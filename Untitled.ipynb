{
 "cells": [
  {
   "cell_type": "code",
   "execution_count": 1,
   "metadata": {},
   "outputs": [
    {
     "name": "stdout",
     "output_type": "stream",
     "text": [
      "         States  Numbers\n",
      "0     Abuja FCT      6.0\n",
      "1       Adamawa      0.0\n",
      "2       Anambra      0.0\n",
      "3       Bayelsa      0.0\n",
      "4         Borno      0.0\n",
      "5         Delta      0.0\n",
      "6         Enugu      0.0\n",
      "7         Ekiti      1.0\n",
      "8           Imo      0.0\n",
      "9        Kaduna      0.0\n",
      "10      Katsina      0.0\n",
      "11         Kogi      0.0\n",
      "12        Lagos     25.0\n",
      "13        Niger      0.0\n",
      "14         Ondo      0.0\n",
      "15          Oyo      1.0\n",
      "16       Rivers      0.0\n",
      "17       Taraba      0.0\n",
      "18      Zamfara      0.0\n",
      "0          Abia      0.0\n",
      "1     Akwa Ibom      0.0\n",
      "2        Bauchi      0.0\n",
      "3         Benue      0.0\n",
      "4   Cross River      0.0\n",
      "5        Ebonyi      0.0\n",
      "6           Edo      1.0\n",
      "7         Gombe      0.0\n",
      "8        Jigawa      0.0\n",
      "9          Kano      0.0\n",
      "10        Kebbi      0.0\n",
      "11        Kwara      0.0\n",
      "12     Nasarawa      0.0\n",
      "13         Ogun      2.0\n",
      "14         Osun      0.0\n",
      "15      Plateau      0.0\n",
      "16       Sokoto      0.0\n",
      "17         Yobe      0.0\n"
     ]
    }
   ],
   "source": [
    "import requests\n",
    "from bs4 import BeautifulSoup as bs\n",
    "import pandas as pd\n",
    "# import bs4/\n",
    "\n",
    "\n",
    "# print(help(bs4))\n",
    "url = \"http://covid19.ncdc.gov.ng/\"\n",
    " \n",
    "def get_nigeria(url):\n",
    "    request_ = requests.get(url).text\n",
    "    soup = bs(request_, 'html.parser')\n",
    "    tabel_ = soup.find('table', id='custom3').prettify()\n",
    "    data = pd.read_html(tabel_)\n",
    "    data = data[0]\n",
    "    data.columns = ['States', 'Numbers', 'States', 'Numbers']\n",
    "    data = data.iloc[:, 0:2].append(data.iloc[:, 2:4])\n",
    "    data.dropna(inplace=True)\n",
    "    \n",
    "    return data\n",
    "     \n",
    "print(get_nigeria(url))"
   ]
  },
  {
   "cell_type": "code",
   "execution_count": 2,
   "metadata": {},
   "outputs": [],
   "source": [
    "coro_data = get_nigeria(url)"
   ]
  },
  {
   "cell_type": "code",
   "execution_count": 3,
   "metadata": {},
   "outputs": [
    {
     "data": {
      "text/plain": [
       "Index(['States', 'Numbers'], dtype='object')"
      ]
     },
     "execution_count": 3,
     "metadata": {},
     "output_type": "execute_result"
    }
   ],
   "source": [
    "coro_data.columns"
   ]
  },
  {
   "cell_type": "code",
   "execution_count": 4,
   "metadata": {},
   "outputs": [
    {
     "data": {
      "text/plain": [
       "'[{\"States\":\"Abuja FCT\",\"Numbers\":6.0},{\"States\":\"Adamawa\",\"Numbers\":0.0},{\"States\":\"Anambra\",\"Numbers\":0.0},{\"States\":\"Bayelsa\",\"Numbers\":0.0},{\"States\":\"Borno\",\"Numbers\":0.0},{\"States\":\"Delta\",\"Numbers\":0.0},{\"States\":\"Enugu\",\"Numbers\":0.0},{\"States\":\"Ekiti\",\"Numbers\":1.0},{\"States\":\"Imo\",\"Numbers\":0.0},{\"States\":\"Kaduna\",\"Numbers\":0.0},{\"States\":\"Katsina\",\"Numbers\":0.0},{\"States\":\"Kogi\",\"Numbers\":0.0},{\"States\":\"Lagos\",\"Numbers\":25.0},{\"States\":\"Niger\",\"Numbers\":0.0},{\"States\":\"Ondo\",\"Numbers\":0.0},{\"States\":\"Oyo\",\"Numbers\":1.0},{\"States\":\"Rivers\",\"Numbers\":0.0},{\"States\":\"Taraba\",\"Numbers\":0.0},{\"States\":\"Zamfara\",\"Numbers\":0.0},{\"States\":\"Abia\",\"Numbers\":0.0},{\"States\":\"Akwa Ibom\",\"Numbers\":0.0},{\"States\":\"Bauchi\",\"Numbers\":0.0},{\"States\":\"Benue\",\"Numbers\":0.0},{\"States\":\"Cross River\",\"Numbers\":0.0},{\"States\":\"Ebonyi\",\"Numbers\":0.0},{\"States\":\"Edo\",\"Numbers\":1.0},{\"States\":\"Gombe\",\"Numbers\":0.0},{\"States\":\"Jigawa\",\"Numbers\":0.0},{\"States\":\"Kano\",\"Numbers\":0.0},{\"States\":\"Kebbi\",\"Numbers\":0.0},{\"States\":\"Kwara\",\"Numbers\":0.0},{\"States\":\"Nasarawa\",\"Numbers\":0.0},{\"States\":\"Ogun\",\"Numbers\":2.0},{\"States\":\"Osun\",\"Numbers\":0.0},{\"States\":\"Plateau\",\"Numbers\":0.0},{\"States\":\"Sokoto\",\"Numbers\":0.0},{\"States\":\"Yobe\",\"Numbers\":0.0}]'"
      ]
     },
     "execution_count": 4,
     "metadata": {},
     "output_type": "execute_result"
    }
   ],
   "source": [
    "coro_data.to_json(orient='records')"
   ]
  },
  {
   "cell_type": "code",
   "execution_count": 5,
   "metadata": {},
   "outputs": [],
   "source": [
    "read_ = pd.read_csv(\"https://raw.githubusercontent.com/CSSEGISandData/COVID-19/master/csse_covid_19_data/csse_covid_19_daily_reports/03-20-2020.csv\")"
   ]
  },
  {
   "cell_type": "code",
   "execution_count": 6,
   "metadata": {},
   "outputs": [
    {
     "data": {
      "text/html": [
       "<div>\n",
       "<style scoped>\n",
       "    .dataframe tbody tr th:only-of-type {\n",
       "        vertical-align: middle;\n",
       "    }\n",
       "\n",
       "    .dataframe tbody tr th {\n",
       "        vertical-align: top;\n",
       "    }\n",
       "\n",
       "    .dataframe thead th {\n",
       "        text-align: right;\n",
       "    }\n",
       "</style>\n",
       "<table border=\"1\" class=\"dataframe\">\n",
       "  <thead>\n",
       "    <tr style=\"text-align: right;\">\n",
       "      <th></th>\n",
       "      <th>Province/State</th>\n",
       "      <th>Country/Region</th>\n",
       "      <th>Last Update</th>\n",
       "      <th>Confirmed</th>\n",
       "      <th>Deaths</th>\n",
       "      <th>Recovered</th>\n",
       "      <th>Latitude</th>\n",
       "      <th>Longitude</th>\n",
       "    </tr>\n",
       "  </thead>\n",
       "  <tbody>\n",
       "    <tr>\n",
       "      <th>0</th>\n",
       "      <td>Hubei</td>\n",
       "      <td>China</td>\n",
       "      <td>2020-03-20T07:43:02</td>\n",
       "      <td>67800</td>\n",
       "      <td>3133</td>\n",
       "      <td>58382</td>\n",
       "      <td>30.9756</td>\n",
       "      <td>112.2707</td>\n",
       "    </tr>\n",
       "    <tr>\n",
       "      <th>1</th>\n",
       "      <td>NaN</td>\n",
       "      <td>Italy</td>\n",
       "      <td>2020-03-20T17:43:03</td>\n",
       "      <td>47021</td>\n",
       "      <td>4032</td>\n",
       "      <td>4440</td>\n",
       "      <td>41.8719</td>\n",
       "      <td>12.5674</td>\n",
       "    </tr>\n",
       "    <tr>\n",
       "      <th>2</th>\n",
       "      <td>NaN</td>\n",
       "      <td>Spain</td>\n",
       "      <td>2020-03-20T17:43:03</td>\n",
       "      <td>20410</td>\n",
       "      <td>1043</td>\n",
       "      <td>1588</td>\n",
       "      <td>40.4637</td>\n",
       "      <td>-3.7492</td>\n",
       "    </tr>\n",
       "    <tr>\n",
       "      <th>3</th>\n",
       "      <td>NaN</td>\n",
       "      <td>Germany</td>\n",
       "      <td>2020-03-20T20:13:15</td>\n",
       "      <td>19848</td>\n",
       "      <td>67</td>\n",
       "      <td>180</td>\n",
       "      <td>51.1657</td>\n",
       "      <td>10.4515</td>\n",
       "    </tr>\n",
       "    <tr>\n",
       "      <th>4</th>\n",
       "      <td>NaN</td>\n",
       "      <td>Iran</td>\n",
       "      <td>2020-03-20T15:13:21</td>\n",
       "      <td>19644</td>\n",
       "      <td>1433</td>\n",
       "      <td>6745</td>\n",
       "      <td>32.4279</td>\n",
       "      <td>53.6880</td>\n",
       "    </tr>\n",
       "  </tbody>\n",
       "</table>\n",
       "</div>"
      ],
      "text/plain": [
       "  Province/State Country/Region          Last Update  Confirmed  Deaths  \\\n",
       "0          Hubei          China  2020-03-20T07:43:02      67800    3133   \n",
       "1            NaN          Italy  2020-03-20T17:43:03      47021    4032   \n",
       "2            NaN          Spain  2020-03-20T17:43:03      20410    1043   \n",
       "3            NaN        Germany  2020-03-20T20:13:15      19848      67   \n",
       "4            NaN           Iran  2020-03-20T15:13:21      19644    1433   \n",
       "\n",
       "   Recovered  Latitude  Longitude  \n",
       "0      58382   30.9756   112.2707  \n",
       "1       4440   41.8719    12.5674  \n",
       "2       1588   40.4637    -3.7492  \n",
       "3        180   51.1657    10.4515  \n",
       "4       6745   32.4279    53.6880  "
      ]
     },
     "execution_count": 6,
     "metadata": {},
     "output_type": "execute_result"
    }
   ],
   "source": [
    "read_.head()"
   ]
  },
  {
   "cell_type": "code",
   "execution_count": 7,
   "metadata": {},
   "outputs": [],
   "source": [
    "coro_data.columns = ['States', 'Confirmed']"
   ]
  },
  {
   "cell_type": "code",
   "execution_count": 8,
   "metadata": {},
   "outputs": [
    {
     "data": {
      "text/html": [
       "<div>\n",
       "<style scoped>\n",
       "    .dataframe tbody tr th:only-of-type {\n",
       "        vertical-align: middle;\n",
       "    }\n",
       "\n",
       "    .dataframe tbody tr th {\n",
       "        vertical-align: top;\n",
       "    }\n",
       "\n",
       "    .dataframe thead th {\n",
       "        text-align: right;\n",
       "    }\n",
       "</style>\n",
       "<table border=\"1\" class=\"dataframe\">\n",
       "  <thead>\n",
       "    <tr style=\"text-align: right;\">\n",
       "      <th></th>\n",
       "      <th>Province/State</th>\n",
       "      <th>Country/Region</th>\n",
       "      <th>Last Update</th>\n",
       "      <th>Confirmed</th>\n",
       "      <th>Deaths</th>\n",
       "      <th>Recovered</th>\n",
       "      <th>Latitude</th>\n",
       "      <th>Longitude</th>\n",
       "    </tr>\n",
       "  </thead>\n",
       "  <tbody>\n",
       "    <tr>\n",
       "      <th>212</th>\n",
       "      <td>NaN</td>\n",
       "      <td>Nigeria</td>\n",
       "      <td>2020-03-20T02:13:50</td>\n",
       "      <td>12</td>\n",
       "      <td>0</td>\n",
       "      <td>1</td>\n",
       "      <td>9.082</td>\n",
       "      <td>8.6753</td>\n",
       "    </tr>\n",
       "  </tbody>\n",
       "</table>\n",
       "</div>"
      ],
      "text/plain": [
       "    Province/State Country/Region          Last Update  Confirmed  Deaths  \\\n",
       "212            NaN        Nigeria  2020-03-20T02:13:50         12       0   \n",
       "\n",
       "     Recovered  Latitude  Longitude  \n",
       "212          1     9.082     8.6753  "
      ]
     },
     "execution_count": 8,
     "metadata": {},
     "output_type": "execute_result"
    }
   ],
   "source": [
    "read_[read_['Country/Region'] == \"Nigeria\"]"
   ]
  },
  {
   "cell_type": "code",
   "execution_count": 13,
   "metadata": {},
   "outputs": [],
   "source": [
    "# re = requests.get('http://www.geonames.org/countries/').text\n",
    "# sq = bs(re, 'html.parser')"
   ]
  },
  {
   "cell_type": "code",
   "execution_count": 14,
   "metadata": {},
   "outputs": [],
   "source": [
    "# table_cou = sq.find('table', id=\"countries\").prettify()\n"
   ]
  },
  {
   "cell_type": "code",
   "execution_count": 15,
   "metadata": {},
   "outputs": [],
   "source": [
    "# read_co = pd.read_html(table_cou)"
   ]
  },
  {
   "cell_type": "code",
   "execution_count": 16,
   "metadata": {},
   "outputs": [],
   "source": [
    "# read_co[0].head()"
   ]
  },
  {
   "cell_type": "code",
   "execution_count": 17,
   "metadata": {},
   "outputs": [],
   "source": [
    "# read_co[0].to_csv('countiesinthe world.csv', index=False)"
   ]
  },
  {
   "cell_type": "code",
   "execution_count": 18,
   "metadata": {},
   "outputs": [],
   "source": [
    "countries = pd.read_csv('countiesinthe world.csv')"
   ]
  },
  {
   "cell_type": "code",
   "execution_count": 19,
   "metadata": {},
   "outputs": [
    {
     "data": {
      "text/html": [
       "<div>\n",
       "<style scoped>\n",
       "    .dataframe tbody tr th:only-of-type {\n",
       "        vertical-align: middle;\n",
       "    }\n",
       "\n",
       "    .dataframe tbody tr th {\n",
       "        vertical-align: top;\n",
       "    }\n",
       "\n",
       "    .dataframe thead th {\n",
       "        text-align: right;\n",
       "    }\n",
       "</style>\n",
       "<table border=\"1\" class=\"dataframe\">\n",
       "  <thead>\n",
       "    <tr style=\"text-align: right;\">\n",
       "      <th></th>\n",
       "      <th>ISO-3166  alpha2</th>\n",
       "      <th>ISO-3166  alpha3</th>\n",
       "      <th>ISO-3166  numeric</th>\n",
       "      <th>fips</th>\n",
       "      <th>Country</th>\n",
       "      <th>Capital</th>\n",
       "      <th>Area in km²</th>\n",
       "      <th>Population</th>\n",
       "      <th>Continent</th>\n",
       "    </tr>\n",
       "  </thead>\n",
       "  <tbody>\n",
       "    <tr>\n",
       "      <th>0</th>\n",
       "      <td>AD</td>\n",
       "      <td>AND</td>\n",
       "      <td>20</td>\n",
       "      <td>AN</td>\n",
       "      <td>Andorra</td>\n",
       "      <td>Andorra la Vella</td>\n",
       "      <td>468.0</td>\n",
       "      <td>84000</td>\n",
       "      <td>EU</td>\n",
       "    </tr>\n",
       "    <tr>\n",
       "      <th>1</th>\n",
       "      <td>AE</td>\n",
       "      <td>ARE</td>\n",
       "      <td>784</td>\n",
       "      <td>AE</td>\n",
       "      <td>United Arab Emirates</td>\n",
       "      <td>Abu Dhabi</td>\n",
       "      <td>82880.0</td>\n",
       "      <td>4975593</td>\n",
       "      <td>AS</td>\n",
       "    </tr>\n",
       "    <tr>\n",
       "      <th>2</th>\n",
       "      <td>AF</td>\n",
       "      <td>AFG</td>\n",
       "      <td>4</td>\n",
       "      <td>AF</td>\n",
       "      <td>Afghanistan</td>\n",
       "      <td>Kabul</td>\n",
       "      <td>647500.0</td>\n",
       "      <td>29121286</td>\n",
       "      <td>AS</td>\n",
       "    </tr>\n",
       "    <tr>\n",
       "      <th>3</th>\n",
       "      <td>AG</td>\n",
       "      <td>ATG</td>\n",
       "      <td>28</td>\n",
       "      <td>AC</td>\n",
       "      <td>Antigua and Barbuda</td>\n",
       "      <td>St. John's</td>\n",
       "      <td>443.0</td>\n",
       "      <td>86754</td>\n",
       "      <td>NaN</td>\n",
       "    </tr>\n",
       "    <tr>\n",
       "      <th>4</th>\n",
       "      <td>AI</td>\n",
       "      <td>AIA</td>\n",
       "      <td>660</td>\n",
       "      <td>AV</td>\n",
       "      <td>Anguilla</td>\n",
       "      <td>The Valley</td>\n",
       "      <td>102.0</td>\n",
       "      <td>13254</td>\n",
       "      <td>NaN</td>\n",
       "    </tr>\n",
       "  </tbody>\n",
       "</table>\n",
       "</div>"
      ],
      "text/plain": [
       "  ISO-3166  alpha2 ISO-3166  alpha3  ISO-3166  numeric fips  \\\n",
       "0               AD              AND                 20   AN   \n",
       "1               AE              ARE                784   AE   \n",
       "2               AF              AFG                  4   AF   \n",
       "3               AG              ATG                 28   AC   \n",
       "4               AI              AIA                660   AV   \n",
       "\n",
       "                Country           Capital  Area in km²  Population Continent  \n",
       "0               Andorra  Andorra la Vella        468.0       84000        EU  \n",
       "1  United Arab Emirates         Abu Dhabi      82880.0     4975593        AS  \n",
       "2           Afghanistan             Kabul     647500.0    29121286        AS  \n",
       "3   Antigua and Barbuda        St. John's        443.0       86754       NaN  \n",
       "4              Anguilla        The Valley        102.0       13254       NaN  "
      ]
     },
     "execution_count": 19,
     "metadata": {},
     "output_type": "execute_result"
    }
   ],
   "source": [
    "countries.head()"
   ]
  },
  {
   "cell_type": "code",
   "execution_count": 20,
   "metadata": {},
   "outputs": [],
   "source": [
    "countries_AF = countries[countries['Continent'] == \"AF\"]"
   ]
  },
  {
   "cell_type": "code",
   "execution_count": 21,
   "metadata": {},
   "outputs": [
    {
     "data": {
      "text/html": [
       "<div>\n",
       "<style scoped>\n",
       "    .dataframe tbody tr th:only-of-type {\n",
       "        vertical-align: middle;\n",
       "    }\n",
       "\n",
       "    .dataframe tbody tr th {\n",
       "        vertical-align: top;\n",
       "    }\n",
       "\n",
       "    .dataframe thead th {\n",
       "        text-align: right;\n",
       "    }\n",
       "</style>\n",
       "<table border=\"1\" class=\"dataframe\">\n",
       "  <thead>\n",
       "    <tr style=\"text-align: right;\">\n",
       "      <th></th>\n",
       "      <th>ISO-3166  alpha2</th>\n",
       "      <th>ISO-3166  alpha3</th>\n",
       "      <th>ISO-3166  numeric</th>\n",
       "      <th>fips</th>\n",
       "      <th>Country</th>\n",
       "      <th>Capital</th>\n",
       "      <th>Area in km²</th>\n",
       "      <th>Population</th>\n",
       "      <th>Continent</th>\n",
       "    </tr>\n",
       "  </thead>\n",
       "  <tbody>\n",
       "    <tr>\n",
       "      <th>165</th>\n",
       "      <td>NG</td>\n",
       "      <td>NGA</td>\n",
       "      <td>566</td>\n",
       "      <td>NI</td>\n",
       "      <td>Nigeria</td>\n",
       "      <td>Abuja</td>\n",
       "      <td>923768.0</td>\n",
       "      <td>154000000</td>\n",
       "      <td>AF</td>\n",
       "    </tr>\n",
       "  </tbody>\n",
       "</table>\n",
       "</div>"
      ],
      "text/plain": [
       "    ISO-3166  alpha2 ISO-3166  alpha3  ISO-3166  numeric fips  Country  \\\n",
       "165               NG              NGA                566   NI  Nigeria   \n",
       "\n",
       "    Capital  Area in km²  Population Continent  \n",
       "165   Abuja     923768.0   154000000        AF  "
      ]
     },
     "execution_count": 21,
     "metadata": {},
     "output_type": "execute_result"
    }
   ],
   "source": [
    "countries_AF[countries_AF['Country'] == \"Nigeria\"]"
   ]
  },
  {
   "cell_type": "code",
   "execution_count": 22,
   "metadata": {},
   "outputs": [],
   "source": [
    "countires_country = countries.Country"
   ]
  },
  {
   "cell_type": "code",
   "execution_count": 23,
   "metadata": {},
   "outputs": [
    {
     "data": {
      "text/html": [
       "<div>\n",
       "<style scoped>\n",
       "    .dataframe tbody tr th:only-of-type {\n",
       "        vertical-align: middle;\n",
       "    }\n",
       "\n",
       "    .dataframe tbody tr th {\n",
       "        vertical-align: top;\n",
       "    }\n",
       "\n",
       "    .dataframe thead th {\n",
       "        text-align: right;\n",
       "    }\n",
       "</style>\n",
       "<table border=\"1\" class=\"dataframe\">\n",
       "  <thead>\n",
       "    <tr style=\"text-align: right;\">\n",
       "      <th></th>\n",
       "      <th>Province/State</th>\n",
       "      <th>Country/Region</th>\n",
       "      <th>Last Update</th>\n",
       "      <th>Confirmed</th>\n",
       "      <th>Deaths</th>\n",
       "      <th>Recovered</th>\n",
       "      <th>Latitude</th>\n",
       "      <th>Longitude</th>\n",
       "    </tr>\n",
       "  </thead>\n",
       "  <tbody>\n",
       "    <tr>\n",
       "      <th>0</th>\n",
       "      <td>Hubei</td>\n",
       "      <td>China</td>\n",
       "      <td>2020-03-20T07:43:02</td>\n",
       "      <td>67800</td>\n",
       "      <td>3133</td>\n",
       "      <td>58382</td>\n",
       "      <td>30.9756</td>\n",
       "      <td>112.2707</td>\n",
       "    </tr>\n",
       "    <tr>\n",
       "      <th>1</th>\n",
       "      <td>NaN</td>\n",
       "      <td>Italy</td>\n",
       "      <td>2020-03-20T17:43:03</td>\n",
       "      <td>47021</td>\n",
       "      <td>4032</td>\n",
       "      <td>4440</td>\n",
       "      <td>41.8719</td>\n",
       "      <td>12.5674</td>\n",
       "    </tr>\n",
       "    <tr>\n",
       "      <th>2</th>\n",
       "      <td>NaN</td>\n",
       "      <td>Spain</td>\n",
       "      <td>2020-03-20T17:43:03</td>\n",
       "      <td>20410</td>\n",
       "      <td>1043</td>\n",
       "      <td>1588</td>\n",
       "      <td>40.4637</td>\n",
       "      <td>-3.7492</td>\n",
       "    </tr>\n",
       "    <tr>\n",
       "      <th>3</th>\n",
       "      <td>NaN</td>\n",
       "      <td>Germany</td>\n",
       "      <td>2020-03-20T20:13:15</td>\n",
       "      <td>19848</td>\n",
       "      <td>67</td>\n",
       "      <td>180</td>\n",
       "      <td>51.1657</td>\n",
       "      <td>10.4515</td>\n",
       "    </tr>\n",
       "    <tr>\n",
       "      <th>4</th>\n",
       "      <td>NaN</td>\n",
       "      <td>Iran</td>\n",
       "      <td>2020-03-20T15:13:21</td>\n",
       "      <td>19644</td>\n",
       "      <td>1433</td>\n",
       "      <td>6745</td>\n",
       "      <td>32.4279</td>\n",
       "      <td>53.6880</td>\n",
       "    </tr>\n",
       "  </tbody>\n",
       "</table>\n",
       "</div>"
      ],
      "text/plain": [
       "  Province/State Country/Region          Last Update  Confirmed  Deaths  \\\n",
       "0          Hubei          China  2020-03-20T07:43:02      67800    3133   \n",
       "1            NaN          Italy  2020-03-20T17:43:03      47021    4032   \n",
       "2            NaN          Spain  2020-03-20T17:43:03      20410    1043   \n",
       "3            NaN        Germany  2020-03-20T20:13:15      19848      67   \n",
       "4            NaN           Iran  2020-03-20T15:13:21      19644    1433   \n",
       "\n",
       "   Recovered  Latitude  Longitude  \n",
       "0      58382   30.9756   112.2707  \n",
       "1       4440   41.8719    12.5674  \n",
       "2       1588   40.4637    -3.7492  \n",
       "3        180   51.1657    10.4515  \n",
       "4       6745   32.4279    53.6880  "
      ]
     },
     "execution_count": 23,
     "metadata": {},
     "output_type": "execute_result"
    }
   ],
   "source": [
    "read_.head()"
   ]
  },
  {
   "cell_type": "code",
   "execution_count": 24,
   "metadata": {},
   "outputs": [],
   "source": [
    "west_africa = pd.read_csv('data.csv')"
   ]
  },
  {
   "cell_type": "code",
   "execution_count": 25,
   "metadata": {},
   "outputs": [
    {
     "data": {
      "text/html": [
       "<div>\n",
       "<style scoped>\n",
       "    .dataframe tbody tr th:only-of-type {\n",
       "        vertical-align: middle;\n",
       "    }\n",
       "\n",
       "    .dataframe tbody tr th {\n",
       "        vertical-align: top;\n",
       "    }\n",
       "\n",
       "    .dataframe thead th {\n",
       "        text-align: right;\n",
       "    }\n",
       "</style>\n",
       "<table border=\"1\" class=\"dataframe\">\n",
       "  <thead>\n",
       "    <tr style=\"text-align: right;\">\n",
       "      <th></th>\n",
       "      <th>name</th>\n",
       "      <th>pop2020</th>\n",
       "    </tr>\n",
       "  </thead>\n",
       "  <tbody>\n",
       "    <tr>\n",
       "      <th>0</th>\n",
       "      <td>Benin</td>\n",
       "      <td>12123.200</td>\n",
       "    </tr>\n",
       "    <tr>\n",
       "      <th>1</th>\n",
       "      <td>Burkina Faso</td>\n",
       "      <td>20903.273</td>\n",
       "    </tr>\n",
       "    <tr>\n",
       "      <th>2</th>\n",
       "      <td>Cameroon</td>\n",
       "      <td>26545.863</td>\n",
       "    </tr>\n",
       "    <tr>\n",
       "      <th>3</th>\n",
       "      <td>Cape Verde</td>\n",
       "      <td>555.987</td>\n",
       "    </tr>\n",
       "    <tr>\n",
       "      <th>4</th>\n",
       "      <td>Gambia</td>\n",
       "      <td>2416.668</td>\n",
       "    </tr>\n",
       "    <tr>\n",
       "      <th>5</th>\n",
       "      <td>Ghana</td>\n",
       "      <td>31072.940</td>\n",
       "    </tr>\n",
       "    <tr>\n",
       "      <th>6</th>\n",
       "      <td>Guinea</td>\n",
       "      <td>13132.795</td>\n",
       "    </tr>\n",
       "    <tr>\n",
       "      <th>7</th>\n",
       "      <td>Guinea-Bissau</td>\n",
       "      <td>1968.001</td>\n",
       "    </tr>\n",
       "    <tr>\n",
       "      <th>8</th>\n",
       "      <td>Ivory Coast</td>\n",
       "      <td>26378.274</td>\n",
       "    </tr>\n",
       "    <tr>\n",
       "      <th>9</th>\n",
       "      <td>Liberia</td>\n",
       "      <td>5057.681</td>\n",
       "    </tr>\n",
       "    <tr>\n",
       "      <th>10</th>\n",
       "      <td>Mali</td>\n",
       "      <td>20250.833</td>\n",
       "    </tr>\n",
       "    <tr>\n",
       "      <th>11</th>\n",
       "      <td>Mauritania</td>\n",
       "      <td>4649.658</td>\n",
       "    </tr>\n",
       "    <tr>\n",
       "      <th>12</th>\n",
       "      <td>Niger</td>\n",
       "      <td>24206.644</td>\n",
       "    </tr>\n",
       "    <tr>\n",
       "      <th>13</th>\n",
       "      <td>Nigeria</td>\n",
       "      <td>206139.589</td>\n",
       "    </tr>\n",
       "    <tr>\n",
       "      <th>14</th>\n",
       "      <td>Senegal</td>\n",
       "      <td>16743.927</td>\n",
       "    </tr>\n",
       "    <tr>\n",
       "      <th>15</th>\n",
       "      <td>Sierra Leone</td>\n",
       "      <td>7976.983</td>\n",
       "    </tr>\n",
       "    <tr>\n",
       "      <th>16</th>\n",
       "      <td>Togo</td>\n",
       "      <td>8278.724</td>\n",
       "    </tr>\n",
       "  </tbody>\n",
       "</table>\n",
       "</div>"
      ],
      "text/plain": [
       "             name     pop2020\n",
       "0           Benin   12123.200\n",
       "1    Burkina Faso   20903.273\n",
       "2        Cameroon   26545.863\n",
       "3      Cape Verde     555.987\n",
       "4          Gambia    2416.668\n",
       "5           Ghana   31072.940\n",
       "6          Guinea   13132.795\n",
       "7   Guinea-Bissau    1968.001\n",
       "8     Ivory Coast   26378.274\n",
       "9         Liberia    5057.681\n",
       "10           Mali   20250.833\n",
       "11     Mauritania    4649.658\n",
       "12          Niger   24206.644\n",
       "13        Nigeria  206139.589\n",
       "14        Senegal   16743.927\n",
       "15   Sierra Leone    7976.983\n",
       "16           Togo    8278.724"
      ]
     },
     "execution_count": 25,
     "metadata": {},
     "output_type": "execute_result"
    }
   ],
   "source": [
    "west_africa"
   ]
  },
  {
   "cell_type": "code",
   "execution_count": 26,
   "metadata": {},
   "outputs": [],
   "source": [
    "cor_west_africa = read_[read_['Country/Region'].isin(west_africa['name'])]"
   ]
  },
  {
   "cell_type": "code",
   "execution_count": 27,
   "metadata": {},
   "outputs": [],
   "source": [
    "cor_west_africa.columns = ['States', 'Country', 'Last Update', 'Confirmed',\n",
    "       'Deaths', 'Recovered', 'Latitude', 'Longitude']"
   ]
  },
  {
   "cell_type": "code",
   "execution_count": 28,
   "metadata": {},
   "outputs": [
    {
     "data": {
      "text/html": [
       "<div>\n",
       "<style scoped>\n",
       "    .dataframe tbody tr th:only-of-type {\n",
       "        vertical-align: middle;\n",
       "    }\n",
       "\n",
       "    .dataframe tbody tr th {\n",
       "        vertical-align: top;\n",
       "    }\n",
       "\n",
       "    .dataframe thead th {\n",
       "        text-align: right;\n",
       "    }\n",
       "</style>\n",
       "<table border=\"1\" class=\"dataframe\">\n",
       "  <thead>\n",
       "    <tr style=\"text-align: right;\">\n",
       "      <th></th>\n",
       "      <th>States</th>\n",
       "      <th>Country</th>\n",
       "      <th>Last Update</th>\n",
       "      <th>Confirmed</th>\n",
       "      <th>Deaths</th>\n",
       "      <th>Recovered</th>\n",
       "      <th>Latitude</th>\n",
       "      <th>Longitude</th>\n",
       "    </tr>\n",
       "  </thead>\n",
       "  <tbody>\n",
       "    <tr>\n",
       "      <th>170</th>\n",
       "      <td>NaN</td>\n",
       "      <td>Burkina Faso</td>\n",
       "      <td>2020-03-20T15:13:21</td>\n",
       "      <td>40</td>\n",
       "      <td>1</td>\n",
       "      <td>0</td>\n",
       "      <td>12.2383</td>\n",
       "      <td>-1.5616</td>\n",
       "    </tr>\n",
       "    <tr>\n",
       "      <th>172</th>\n",
       "      <td>NaN</td>\n",
       "      <td>Senegal</td>\n",
       "      <td>2020-03-20T15:43:24</td>\n",
       "      <td>38</td>\n",
       "      <td>0</td>\n",
       "      <td>2</td>\n",
       "      <td>14.4974</td>\n",
       "      <td>-14.4524</td>\n",
       "    </tr>\n",
       "    <tr>\n",
       "      <th>187</th>\n",
       "      <td>NaN</td>\n",
       "      <td>Cameroon</td>\n",
       "      <td>2020-03-20T14:43:04</td>\n",
       "      <td>20</td>\n",
       "      <td>0</td>\n",
       "      <td>0</td>\n",
       "      <td>3.8480</td>\n",
       "      <td>11.5021</td>\n",
       "    </tr>\n",
       "    <tr>\n",
       "      <th>197</th>\n",
       "      <td>NaN</td>\n",
       "      <td>Ghana</td>\n",
       "      <td>2020-03-20T15:43:24</td>\n",
       "      <td>16</td>\n",
       "      <td>0</td>\n",
       "      <td>0</td>\n",
       "      <td>7.9465</td>\n",
       "      <td>-1.0232</td>\n",
       "    </tr>\n",
       "    <tr>\n",
       "      <th>212</th>\n",
       "      <td>NaN</td>\n",
       "      <td>Nigeria</td>\n",
       "      <td>2020-03-20T02:13:50</td>\n",
       "      <td>12</td>\n",
       "      <td>0</td>\n",
       "      <td>1</td>\n",
       "      <td>9.0820</td>\n",
       "      <td>8.6753</td>\n",
       "    </tr>\n",
       "  </tbody>\n",
       "</table>\n",
       "</div>"
      ],
      "text/plain": [
       "    States       Country          Last Update  Confirmed  Deaths  Recovered  \\\n",
       "170    NaN  Burkina Faso  2020-03-20T15:13:21         40       1          0   \n",
       "172    NaN       Senegal  2020-03-20T15:43:24         38       0          2   \n",
       "187    NaN      Cameroon  2020-03-20T14:43:04         20       0          0   \n",
       "197    NaN         Ghana  2020-03-20T15:43:24         16       0          0   \n",
       "212    NaN       Nigeria  2020-03-20T02:13:50         12       0          1   \n",
       "\n",
       "     Latitude  Longitude  \n",
       "170   12.2383    -1.5616  \n",
       "172   14.4974   -14.4524  \n",
       "187    3.8480    11.5021  \n",
       "197    7.9465    -1.0232  \n",
       "212    9.0820     8.6753  "
      ]
     },
     "execution_count": 28,
     "metadata": {},
     "output_type": "execute_result"
    }
   ],
   "source": [
    "cor_west_africa.head()"
   ]
  },
  {
   "cell_type": "code",
   "execution_count": 29,
   "metadata": {},
   "outputs": [],
   "source": [
    "coro_data['Country'] = 'Nigeria'"
   ]
  },
  {
   "cell_type": "code",
   "execution_count": 30,
   "metadata": {},
   "outputs": [],
   "source": [
    "affect_state_ng = coro_data[coro_data['Confirmed'] > 0]"
   ]
  },
  {
   "cell_type": "code",
   "execution_count": 31,
   "metadata": {},
   "outputs": [
    {
     "name": "stderr",
     "output_type": "stream",
     "text": [
      "/Users/parallelscore_0008/Documents/Neo4j/mvp/env/lib/python3.7/site-packages/ipykernel_launcher.py:1: FutureWarning: Sorting because non-concatenation axis is not aligned. A future version\n",
      "of pandas will change to not sort by default.\n",
      "\n",
      "To accept the future behavior, pass 'sort=False'.\n",
      "\n",
      "To retain the current behavior and silence the warning, pass 'sort=True'.\n",
      "\n",
      "  \"\"\"Entry point for launching an IPython kernel.\n"
     ]
    }
   ],
   "source": [
    "affected = pd.concat([cor_west_africa, affect_state_ng])"
   ]
  },
  {
   "cell_type": "code",
   "execution_count": 32,
   "metadata": {},
   "outputs": [
    {
     "data": {
      "text/html": [
       "<div>\n",
       "<style scoped>\n",
       "    .dataframe tbody tr th:only-of-type {\n",
       "        vertical-align: middle;\n",
       "    }\n",
       "\n",
       "    .dataframe tbody tr th {\n",
       "        vertical-align: top;\n",
       "    }\n",
       "\n",
       "    .dataframe thead th {\n",
       "        text-align: right;\n",
       "    }\n",
       "</style>\n",
       "<table border=\"1\" class=\"dataframe\">\n",
       "  <thead>\n",
       "    <tr style=\"text-align: right;\">\n",
       "      <th></th>\n",
       "      <th>Province/State</th>\n",
       "      <th>Country/Region</th>\n",
       "      <th>Last Update</th>\n",
       "      <th>Confirmed</th>\n",
       "      <th>Deaths</th>\n",
       "      <th>Recovered</th>\n",
       "      <th>Latitude</th>\n",
       "      <th>Longitude</th>\n",
       "    </tr>\n",
       "  </thead>\n",
       "  <tbody>\n",
       "    <tr>\n",
       "      <th>250</th>\n",
       "      <td>NaN</td>\n",
       "      <td>Benin</td>\n",
       "      <td>2020-03-18T14:13:56</td>\n",
       "      <td>2</td>\n",
       "      <td>0</td>\n",
       "      <td>0</td>\n",
       "      <td>9.3077</td>\n",
       "      <td>2.3158</td>\n",
       "    </tr>\n",
       "  </tbody>\n",
       "</table>\n",
       "</div>"
      ],
      "text/plain": [
       "    Province/State Country/Region          Last Update  Confirmed  Deaths  \\\n",
       "250            NaN          Benin  2020-03-18T14:13:56          2       0   \n",
       "\n",
       "     Recovered  Latitude  Longitude  \n",
       "250          0    9.3077     2.3158  "
      ]
     },
     "execution_count": 32,
     "metadata": {},
     "output_type": "execute_result"
    }
   ],
   "source": [
    "read_[read_['Country/Region']=='Benin']"
   ]
  },
  {
   "cell_type": "code",
   "execution_count": 34,
   "metadata": {},
   "outputs": [
    {
     "data": {
      "text/plain": [
       "['Burkina Faso',\n",
       " 'Senegal',\n",
       " 'Cameroon',\n",
       " 'Ghana',\n",
       " 'Nigeria',\n",
       " 'Togo',\n",
       " 'Benin',\n",
       " 'Liberia',\n",
       " 'Mauritania',\n",
       " 'Guinea',\n",
       " 'Niger',\n",
       " 'Nigeria',\n",
       " 'Nigeria',\n",
       " 'Nigeria',\n",
       " 'Nigeria',\n",
       " 'Nigeria',\n",
       " 'Nigeria']"
      ]
     },
     "execution_count": 34,
     "metadata": {},
     "output_type": "execute_result"
    }
   ],
   "source": [
    "affected.Country.to_list()"
   ]
  },
  {
   "cell_type": "code",
   "execution_count": null,
   "metadata": {},
   "outputs": [],
   "source": []
  }
 ],
 "metadata": {
  "kernelspec": {
   "display_name": "Python 3",
   "language": "python",
   "name": "python3"
  },
  "language_info": {
   "codemirror_mode": {
    "name": "ipython",
    "version": 3
   },
   "file_extension": ".py",
   "mimetype": "text/x-python",
   "name": "python",
   "nbconvert_exporter": "python",
   "pygments_lexer": "ipython3",
   "version": "3.7.6"
  }
 },
 "nbformat": 4,
 "nbformat_minor": 4
}
